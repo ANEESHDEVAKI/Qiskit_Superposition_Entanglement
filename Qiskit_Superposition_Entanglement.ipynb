{
 "cells": [
  {
   "cell_type": "markdown",
   "metadata": {},
   "source": [
    "# Superposition and Entanglement in Qiskit\n",
    "This notebook demonstrates:\n",
    "1. **Superposition** using a single qubit.\n",
    "2. **Entanglement** using two qubits.\n",
    "We will use Qiskit to create circuits, visualize the states, and measure outcomes."
   ]
  },
  {
   "cell_type": "code",
   "metadata": {},
   "source": [
    "# ===========================\n",
    "# Install Qiskit and Aer\n",
    "# ===========================\n",
    "!pip install qiskit --quiet\n",
    "!pip install qiskit-aer --quiet\n",
    "\n",
    "# Verify installation\n",
    "import qiskit\n",
    "print(\"Qiskit version:\", qiskit.__qiskit_version__)"
   ],
   "execution_count": null,
   "outputs": []
  },
  {
   "cell_type": "code",
   "metadata": {},
   "source": [
    "# ===========================\n",
    "# Import Libraries\n",
    "# ===========================\n",
    "from qiskit import QuantumCircuit, Aer, execute\n",
    "from qiskit.visualization import plot_histogram, plot_bloch_multivector\n",
    "from qiskit.quantum_info import Statevector\n",
    "import matplotlib.pyplot as plt"
   ],
   "execution_count": null,
   "outputs": []
  },
  {
   "cell_type": "markdown",
   "metadata": {},
   "source": [
    "## 1. Superposition Example"
   ]
  },
  {
   "cell_type": "code",
   "metadata": {},
   "source": [
    "# Create a quantum circuit with 1 qubit\n",
    "qc_super = QuantumCircuit(1)\n",
    "\n",
    "# Apply Hadamard gate to create superposition\n",
    "qc_super.h(0)\n",
    "\n",
    "# Draw the circuit\n",
    "qc_super.draw('mpl')"
   ],
   "execution_count": null,
   "outputs": []
  },
  {
   "cell_type": "code",
   "metadata": {},
   "source": [
    "# Get the statevector\n",
    "state_super = Statevector.from_instruction(qc_super)\n",
    "print(\"Superposition Statevector:\", state_super)\n",
    "\n",
    "# Plot Bloch vector\n",
    "plot_bloch_multivector(state_super)\n",
    "plt.show()"
   ],
   "execution_count": null,
   "outputs": []
  },
  {
   "cell_type": "code",
   "metadata": {},
   "source": [
    "# Measure the qubit\n",
    "qc_super.measure_all()\n",
    "simulator = Aer.get_backend('qasm_simulator')\n",
    "result_super = execute(qc_super, backend=simulator, shots=1024).result()\n",
    "counts_super = result_super.get_counts()\n",
    "print(\"Superposition Measurement Counts:\", counts_super)\n",
    "plot_histogram(counts_super)\n",
    "plt.show()"
   ],
   "execution_count": null,
   "outputs": []
  },
  {
   "cell_type": "markdown",
   "metadata": {},
   "source": [
    "## 2. Entanglement Example"
   ]
  },
  {
   "cell_type": "code",
   "metadata": {},
   "source": [
    "# Create a quantum circuit with 2 qubits\n",
    "qc_ent = QuantumCircuit(2)\n",
    "\n",
    "# Apply Hadamard gate on qubit 0\n",
    "qc_ent.h(0)\n",
    "\n",
    "# Apply CNOT gate to entangle qubit 0 and qubit 1\n",
    "qc_ent.cx(0, 1)\n",
    "\n",
    "# Draw the circuit\n",
    "qc_ent.draw('mpl')"
   ],
   "execution_count": null,
   "outputs": []
  },
  {
   "cell_type": "code",
   "metadata": {},
   "source": [
    "# Get the statevector\n",
    "state_ent = Statevector.from_instruction(qc_ent)\n",
    "print(\"Entangled Statevector:\", state_ent)\n",
    "\n",
    "# Plot Bloch vectors (for 2 qubits)\n",
    "plot_bloch_multivector(state_ent)\n",
    "plt.show()"
   ],
   "execution_count": null,
   "outputs": []
  },
  {
   "cell_type": "code",
   "metadata": {},
   "source": [
    "# Measure the qubits\n",
    "qc_ent.measure_all()\n",
    "result_ent = execute(qc_ent, backend=simulator, shots=1024).result()\n",
    "counts_ent = result_ent.get_counts()\n",
    "print(\"Entanglement Measurement Counts:\", counts_ent)\n",
    "plot_histogram(counts_ent)\n",
    "plt.show()"
   ],
   "execution_count": null,
   "outputs": []
  }
 ],
 "metadata": {
  "kernelspec": {
   "display_name": "Python 3",
   "language": "python",
   "name": "python3"
  },
  "language_info": {
   "name": "python",
   "version": "3.10"
  }
 },
 "nbformat": 4,
 "nbformat_minor": 5
}
